{
  "cells": [
    {
      "cell_type": "markdown",
      "metadata": {
        "id": "3ChKJS8tQYZw"
      },
      "source": [
        "## **Proyek Akhir: Klasifikasi gambar**\n",
        "Pengembangan Machine learning"
      ]
    },
    {
      "cell_type": "markdown",
      "metadata": {
        "id": "VqrMAmfqRd2W"
      },
      "source": [
        "# Data diri\n",
        "\n",
        "> **Nama : Muhammad Faqih Hakim**\n",
        "\n",
        "> **Alamat : Kabupaten Tangerang**\n",
        "\n",
        "> **Email: mhmdfkih21@gmail.com:**\n",
        "\n",
        "> **Nomor Telpon: +6281292126827**"
      ]
    },
    {
      "cell_type": "markdown",
      "metadata": {
        "id": "ED2xsRg_QYXe"
      },
      "source": [
        "# **kriteria**\n",
        "- **Bebas Memilih Dataset yang Ingin Dipakai, tetapi Harus Memiliki Minimal 1000 Gambar**\n",
        "- **Tidak Diperbolehkan Menggunakan Dataset Rock, Paper, Scissor**\n",
        "- **Dataset Dibagi Menjadi 80% Train Set dan 20% Test Set**\n",
        "- **Model Harus Menggunakan Model Sequential, Conv2D, Pooling Layer**\n",
        "- **Akurasi pada Training dan Validation Set Minimal Sebesar 85%**\n",
        "- **Membuat Plot Terhadap Akurasi dan Loss Model**\n",
        "- **Menyimpan Model ke Dalam Format Saved Model, TF-Lite dan TFJS**"
      ]
    },
    {
      "cell_type": "markdown",
      "source": [
        "# **Saran**\n",
        "\n",
        "\n",
        "-  **Mengimplementasikan Callback**\n",
        "- Gambar-gambar pada dataset memiliki resolusi yang tidak seragam.\n",
        "- **Dataset yang digunakan berisi lebih dari 10000 gambar.**\n",
        "- Akurasi pada training set dan validation set minimal 95%.\n",
        "- **Memiliki 3 buah kelas atau lebih.**\n",
        "- Melakukan inference menggunakan salah satu model (TF-Lite, TFJS atau savedmodel dengan tf serving).\n",
        "\n",
        "\n"
      ],
      "metadata": {
        "id": "hr6z9pb4uUbN"
      }
    },
    {
      "cell_type": "markdown",
      "metadata": {
        "id": "WDaU15raQYK3"
      },
      "source": [
        "## **Import Dataset**"
      ]
    },
    {
      "cell_type": "code",
      "execution_count": 1,
      "metadata": {
        "id": "eTN9zK2MQX6-"
      },
      "outputs": [],
      "source": [
        "import zipfile\n",
        "import os\n",
        "import tensorflow as tf\n",
        "from tensorflow.keras.preprocessing.image import ImageDataGenerator\n",
        "from sklearn.model_selection import train_test_split\n",
        "from tensorflow.keras.regularizers import l2\n",
        "import glob\n",
        "from google.colab import files\n",
        "import shutil\n",
        "import numpy as np\n",
        "from PIL import Image\n",
        "from collections import defaultdict\n",
        "import pandas as pd\n",
        "import matplotlib.pyplot as plt\n",
        "import seaborn as sns\n",
        "import pathlib"
      ]
    },
    {
      "cell_type": "markdown",
      "metadata": {
        "id": "Cj5Tn4BnQSbm"
      },
      "source": [
        "## **Load Dataset**"
      ]
    },
    {
      "cell_type": "markdown",
      "metadata": {
        "id": "XPxFCTRKRA2y"
      },
      "source": [
        "**Download dataset**"
      ]
    },
    {
      "cell_type": "markdown",
      "metadata": {
        "id": "J5B2Ce5jVB8Y"
      },
      "source": [
        "Tidak Diperbolehkan Menggunakan Dataset Rock, Paper, Scissor"
      ]
    },
    {
      "cell_type": "markdown",
      "metadata": {
        "id": "f9V4zMedN5Wl"
      },
      "source": [
        "\n",
        "\n",
        "> Link Dataset: https://www.kaggle.com/datasets/hasibalmuzdadid/shoe-vs-sandal-vs-boot-dataset-15k-images"
      ]
    },
    {
      "cell_type": "code",
      "execution_count": 2,
      "metadata": {
        "colab": {
          "base_uri": "https://localhost:8080/"
        },
        "id": "vWZb6ZHqKk8m",
        "outputId": "90f006fa-6cff-4335-d8d4-62ba6e131799"
      },
      "outputs": [
        {
          "output_type": "stream",
          "name": "stdout",
          "text": [
            "Requirement already satisfied: kaggle in /usr/local/lib/python3.10/dist-packages (1.6.14)\n",
            "Requirement already satisfied: six>=1.10 in /usr/local/lib/python3.10/dist-packages (from kaggle) (1.16.0)\n",
            "Requirement already satisfied: certifi>=2023.7.22 in /usr/local/lib/python3.10/dist-packages (from kaggle) (2024.6.2)\n",
            "Requirement already satisfied: python-dateutil in /usr/local/lib/python3.10/dist-packages (from kaggle) (2.8.2)\n",
            "Requirement already satisfied: requests in /usr/local/lib/python3.10/dist-packages (from kaggle) (2.31.0)\n",
            "Requirement already satisfied: tqdm in /usr/local/lib/python3.10/dist-packages (from kaggle) (4.66.4)\n",
            "Requirement already satisfied: python-slugify in /usr/local/lib/python3.10/dist-packages (from kaggle) (8.0.4)\n",
            "Requirement already satisfied: urllib3 in /usr/local/lib/python3.10/dist-packages (from kaggle) (2.0.7)\n",
            "Requirement already satisfied: bleach in /usr/local/lib/python3.10/dist-packages (from kaggle) (6.1.0)\n",
            "Requirement already satisfied: webencodings in /usr/local/lib/python3.10/dist-packages (from bleach->kaggle) (0.5.1)\n",
            "Requirement already satisfied: text-unidecode>=1.3 in /usr/local/lib/python3.10/dist-packages (from python-slugify->kaggle) (1.3)\n",
            "Requirement already satisfied: charset-normalizer<4,>=2 in /usr/local/lib/python3.10/dist-packages (from requests->kaggle) (3.3.2)\n",
            "Requirement already satisfied: idna<4,>=2.5 in /usr/local/lib/python3.10/dist-packages (from requests->kaggle) (3.7)\n"
          ]
        }
      ],
      "source": [
        "!pip install kaggle"
      ]
    },
    {
      "cell_type": "code",
      "execution_count": 3,
      "metadata": {
        "id": "1kUM_MdGOqXM",
        "colab": {
          "base_uri": "https://localhost:8080/"
        },
        "outputId": "31900aac-8174-44b8-d41f-aa21644418e0"
      },
      "outputs": [
        {
          "output_type": "stream",
          "name": "stdout",
          "text": [
            "cp: cannot stat 'kaggle.json': No such file or directory\n",
            "chmod: cannot access '/root/.kaggle/kaggle.json': No such file or directory\n",
            "Dataset URL: https://www.kaggle.com/datasets/hasibalmuzdadid/shoe-vs-sandal-vs-boot-dataset-15k-images\n",
            "License(s): copyright-authors\n",
            "Downloading shoe-vs-sandal-vs-boot-dataset-15k-images.zip to /content\n",
            " 94% 44.0M/47.0M [00:02<00:00, 15.9MB/s]\n",
            "100% 47.0M/47.0M [00:02<00:00, 17.8MB/s]\n"
          ]
        }
      ],
      "source": [
        "!mkdir ~/.kaggle\n",
        "!cp kaggle.json ~/.kaggle\n",
        "! chmod 600 ~/.kaggle/kaggle.json\n",
        "! kaggle datasets download hasibalmuzdadid/shoe-vs-sandal-vs-boot-dataset-15k-images"
      ]
    },
    {
      "cell_type": "markdown",
      "metadata": {
        "id": "Ihbs8olbO8Gc"
      },
      "source": [
        "**Ekstrak Dataset**"
      ]
    },
    {
      "cell_type": "markdown",
      "metadata": {
        "id": "j6Oqs9qGVQt5"
      },
      "source": [
        "buat directory data untuk menyimpan"
      ]
    },
    {
      "cell_type": "code",
      "execution_count": 4,
      "metadata": {
        "id": "dNNB5CeGSoB2"
      },
      "outputs": [],
      "source": [
        "extract_dir = 'data/'\n",
        "os.makedirs(extract_dir, exist_ok=True)"
      ]
    },
    {
      "cell_type": "markdown",
      "metadata": {
        "id": "1-T04EbnSn2-"
      },
      "source": [
        "ekstrak dan simpan kedalam directory yang sudah dibuat sebelumnya"
      ]
    },
    {
      "cell_type": "code",
      "execution_count": 5,
      "metadata": {
        "id": "uAyuYOiDRsAh",
        "colab": {
          "base_uri": "https://localhost:8080/"
        },
        "outputId": "de393ede-0c29-4993-e423-4cf527cfefef"
      },
      "outputs": [
        {
          "output_type": "stream",
          "name": "stdout",
          "text": [
            "File ZIP 'shoe-vs-sandal-vs-boot-dataset-15k-images.zip' telah diekstrak ke dalam direktori 'data/Shoe vs Sandal vs Boot Dataset'\n"
          ]
        }
      ],
      "source": [
        "zip_file = 'shoe-vs-sandal-vs-boot-dataset-15k-images.zip'\n",
        "data_zip = zipfile.ZipFile(zip_file, 'r')\n",
        "data_zip.extractall(extract_dir)\n",
        "data_zip.close()\n",
        "extract_dir = 'data/Shoe vs Sandal vs Boot Dataset'\n",
        "print(f\"File ZIP '{zip_file}' telah diekstrak ke dalam direktori '{extract_dir}'\")"
      ]
    },
    {
      "cell_type": "markdown",
      "metadata": {
        "id": "RTuhQF07TXc7"
      },
      "source": [
        "\"**Bebas Memilih Dataset yang Ingin Dipakai, tetapi Harus Memiliki Minimal 1000 Gambar**\"\n",
        "\n"
      ]
    },
    {
      "cell_type": "markdown",
      "source": [
        "saran: Dataset yang digunakan berisi lebih dari 10000 gambar."
      ],
      "metadata": {
        "id": "EimkLnS9PKE9"
      }
    },
    {
      "cell_type": "code",
      "execution_count": 6,
      "metadata": {
        "id": "YP839XCXR2FJ",
        "colab": {
          "base_uri": "https://localhost:8080/"
        },
        "outputId": "6fb38996-441f-41b8-832e-e3d486e0652f"
      },
      "outputs": [
        {
          "output_type": "stream",
          "name": "stdout",
          "text": [
            "Jumlah gambar 'Sandal': 5000\n",
            "Jumlah gambar 'Shoe': 5000\n",
            "Jumlah gambar 'Boot': 5000\n",
            "Total jumlah gambar keseluruhan: 15000\n"
          ]
        }
      ],
      "source": [
        "def count_images(root_dir):\n",
        "    image_counts = defaultdict(int)\n",
        "    for root, dirs, files in os.walk(root_dir):\n",
        "        data = [f for f in files if f.endswith('.jpg')]\n",
        "        if data:\n",
        "            category = os.path.basename(root)\n",
        "            image_counts[category] += len(data)\n",
        "    return image_counts\n",
        "\n",
        "image_counts = count_images(extract_dir)\n",
        "\n",
        "for category, count in image_counts.items():\n",
        "    print(f\"Jumlah gambar '{category}': {count}\")\n",
        "\n",
        "total_images = sum(image_counts.values())\n",
        "print(f\"Total jumlah gambar keseluruhan: {total_images}\")"
      ]
    },
    {
      "cell_type": "markdown",
      "metadata": {
        "id": "HKwybZTTWM6Y"
      },
      "source": [
        "## **Data Preparation**\n"
      ]
    },
    {
      "cell_type": "markdown",
      "metadata": {
        "id": "UxKba7HNYv8C"
      },
      "source": [
        "**plot distribusi antar kelas**\n",
        "\n",
        "disini terlihat bahwa data terdistribusi dengan sangat baik"
      ]
    },
    {
      "cell_type": "markdown",
      "source": [
        "Memiliki 3 buah kelas atau lebih."
      ],
      "metadata": {
        "id": "4aMsX0QUPN04"
      }
    },
    {
      "cell_type": "code",
      "execution_count": 7,
      "metadata": {
        "id": "53dKYmP1Y9XT",
        "colab": {
          "base_uri": "https://localhost:8080/",
          "height": 642
        },
        "outputId": "60194b5d-db28-4205-d503-61e88cf4216f"
      },
      "outputs": [
        {
          "output_type": "stream",
          "name": "stderr",
          "text": [
            "<ipython-input-7-853bb83cc71d>:17: UserWarning: FixedFormatter should only be used together with FixedLocator\n",
            "  plot_data.set_xticklabels(plot_data.get_xticklabels(), rotation=45)\n"
          ]
        },
        {
          "output_type": "display_data",
          "data": {
            "text/plain": [
              "<Figure size 800x600 with 1 Axes>"
            ],
            "image/png": "[encoded data removed]"
          },
          "metadata": {}
        }
      ],
      "source": [
        "file_name = []\n",
        "labels = []\n",
        "full_path = []\n",
        "\n",
        "for path, subdirs, files in os.walk(extract_dir):\n",
        "    for name in files:\n",
        "        full_path.append(os.path.join(path, name))\n",
        "        labels.append(path.split('/')[-1])\n",
        "        file_name.append(name)\n",
        "\n",
        "distribution_train = pd.DataFrame({\"path\": full_path, 'file_name': file_name, \"labels\": labels})\n",
        "\n",
        "plt.figure(figsize=(8, 6))\n",
        "sns.set_style(\"darkgrid\")\n",
        "plot_data = sns.countplot(x='labels', data=distribution_train)\n",
        "plot_data.set_title('Distribution of Images in Each Class')\n",
        "plot_data.set_xticklabels(plot_data.get_xticklabels(), rotation=45)\n",
        "plt.ylabel('Number of Images')\n",
        "plt.tight_layout()\n",
        "plt.show()"
      ]
    },
    {
      "cell_type": "markdown",
      "metadata": {
        "id": "b4rkRUKcjdP3"
      },
      "source": [
        "Dataset Checking"
      ]
    },
    {
      "cell_type": "code",
      "execution_count": 8,
      "metadata": {
        "id": "bFlyYHNjhj4y",
        "colab": {
          "base_uri": "https://localhost:8080/",
          "height": 1000
        },
        "outputId": "83fe3b8f-e039-46b5-a6a7-dce1768dcc17"
      },
      "outputs": [
        {
          "output_type": "display_data",
          "data": {
            "text/plain": [
              "<Figure size 1500x1500 with 3 Axes>"
            ],
            "image/png": "[encoded data removed]"
          },
          "metadata": {}
        }
      ],
      "source": [
        "categories = {\n",
        "    'Boot': 'Boot',\n",
        "    'Sandal': 'Sandal',\n",
        "    'Shoe': 'Shoe'\n",
        "}\n",
        "\n",
        "fig, axs = plt.subplots(len(categories), 1, figsize=(15, 15))\n",
        "\n",
        "for i, (class_name, subdir_name) in enumerate(categories.items()):\n",
        "    class_path = os.path.join(extract_dir, subdir_name)\n",
        "    image_files = [f for f in os.listdir(class_path) if f.endswith('.jpg')]\n",
        "    if image_files:\n",
        "        image_file = image_files[0]\n",
        "        img_path = os.path.join(class_path, image_file)\n",
        "        img = Image.open(img_path).convert(\"L\")\n",
        "        axs[i].imshow(img, cmap='gray')\n",
        "        axs[i].set_title(class_name)\n",
        "        axs[i].axis('off')\n",
        "\n",
        "fig.tight_layout()\n",
        "plt.show()"
      ]
    },
    {
      "source": [
        "img_path = os.path.join(extract_dir, class_name, image_file)"
      ],
      "cell_type": "code",
      "metadata": {
        "id": "UgGTQUG19YxI"
      },
      "execution_count": 9,
      "outputs": []
    },
    {
      "cell_type": "markdown",
      "metadata": {
        "id": "PzqinymqWn6D"
      },
      "source": [
        "**Split dataset**"
      ]
    },
    {
      "cell_type": "markdown",
      "metadata": {
        "id": "XcOHKadIXCpl"
      },
      "source": [
        "simpan data menjadi sebuah dataFrame"
      ]
    },
    {
      "cell_type": "code",
      "execution_count": 10,
      "metadata": {
        "id": "-6T-JYlGe231",
        "colab": {
          "base_uri": "https://localhost:8080/",
          "height": 423
        },
        "outputId": "519ac541-9888-424c-9127-b068d4f9ff76"
      },
      "outputs": [
        {
          "output_type": "execute_result",
          "data": {
            "text/plain": [
              "                                                    path          file_name  \\\n",
              "0      data/Shoe vs Sandal vs Boot Dataset/Sandal/San...  Sandal (3742).jpg   \n",
              "1      data/Shoe vs Sandal vs Boot Dataset/Sandal/San...  Sandal (3798).jpg   \n",
              "2      data/Shoe vs Sandal vs Boot Dataset/Sandal/San...  Sandal (2222).jpg   \n",
              "3      data/Shoe vs Sandal vs Boot Dataset/Sandal/San...  Sandal (1576).jpg   \n",
              "4      data/Shoe vs Sandal vs Boot Dataset/Sandal/San...   Sandal (947).jpg   \n",
              "...                                                  ...                ...   \n",
              "14995  data/Shoe vs Sandal vs Boot Dataset/Boot/boot ...    boot (4302).jpg   \n",
              "14996  data/Shoe vs Sandal vs Boot Dataset/Boot/boot ...    boot (2692).jpg   \n",
              "14997  data/Shoe vs Sandal vs Boot Dataset/Boot/boot ...    boot (3213).jpg   \n",
              "14998  data/Shoe vs Sandal vs Boot Dataset/Boot/boot ...    boot (3170).jpg   \n",
              "14999  data/Shoe vs Sandal vs Boot Dataset/Boot/boot ...    boot (2983).jpg   \n",
              "\n",
              "       labels  \n",
              "0      Sandal  \n",
              "1      Sandal  \n",
              "2      Sandal  \n",
              "3      Sandal  \n",
              "4      Sandal  \n",
              "...       ...  \n",
              "14995    Boot  \n",
              "14996    Boot  \n",
              "14997    Boot  \n",
              "14998    Boot  \n",
              "14999    Boot  \n",
              "\n",
              "[15000 rows x 3 columns]"
            ],
            "text/html": [
              "\n",
              "  <div id=\"df-8c5d267a-c181-43f7-ad9c-47cd0b4ef04b\" class=\"colab-df-container\">\n",
              "    <div>\n",
              "<style scoped>\n",
              "    .dataframe tbody tr th:only-of-type {\n",
              "        vertical-align: middle;\n",
              "    }\n",
              "\n",
              "    .dataframe tbody tr th {\n",
              "        vertical-align: top;\n",
              "    }\n",
              "\n",
              "    .dataframe thead th {\n",
              "        text-align: right;\n",
              "    }\n",
              "</style>\n",
              "<table border=\"1\" class=\"dataframe\">\n",
              "  <thead>\n",
              "    <tr style=\"text-align: right;\">\n",
              "      <th></th>\n",
              "      <th>path</th>\n",
              "      <th>file_name</th>\n",
              "      <th>labels</th>\n",
              "    </tr>\n",
              "  </thead>\n",
              "  <tbody>\n",
              "    <tr>\n",
              "      <th>0</th>\n",
              "      <td>data/Shoe vs Sandal vs Boot Dataset/Sandal/San...</td>\n",
              "      <td>Sandal (3742).jpg</td>\n",
              "      <td>Sandal</td>\n",
              "    </tr>\n",
              "    <tr>\n",
              "      <th>1</th>\n",
              "      <td>data/Shoe vs Sandal vs Boot Dataset/Sandal/San...</td>\n",
              "      <td>Sandal (3798).jpg</td>\n",
              "      <td>Sandal</td>\n",
              "    </tr>\n",
              "    <tr>\n",
              "      <th>2</th>\n",
              "      <td>data/Shoe vs Sandal vs Boot Dataset/Sandal/San...</td>\n",
              "      <td>Sandal (2222).jpg</td>\n",
              "      <td>Sandal</td>\n",
              "    </tr>\n",
              "    <tr>\n",
              "      <th>3</th>\n",
              "      <td>data/Shoe vs Sandal vs Boot Dataset/Sandal/San...</td>\n",
              "      <td>Sandal (1576).jpg</td>\n",
              "      <td>Sandal</td>\n",
              "    </tr>\n",
              "    <tr>\n",
              "      <th>4</th>\n",
              "      <td>data/Shoe vs Sandal vs Boot Dataset/Sandal/San...</td>\n",
              "      <td>Sandal (947).jpg</td>\n",
              "      <td>Sandal</td>\n",
              "    </tr>\n",
              "    <tr>\n",
              "      <th>...</th>\n",
              "      <td>...</td>\n",
              "      <td>...</td>\n",
              "      <td>...</td>\n",
              "    </tr>\n",
              "    <tr>\n",
              "      <th>14995</th>\n",
              "      <td>data/Shoe vs Sandal vs Boot Dataset/Boot/boot ...</td>\n",
              "      <td>boot (4302).jpg</td>\n",
              "      <td>Boot</td>\n",
              "    </tr>\n",
              "    <tr>\n",
              "      <th>14996</th>\n",
              "      <td>data/Shoe vs Sandal vs Boot Dataset/Boot/boot ...</td>\n",
              "      <td>boot (2692).jpg</td>\n",
              "      <td>Boot</td>\n",
              "    </tr>\n",
              "    <tr>\n",
              "      <th>14997</th>\n",
              "      <td>data/Shoe vs Sandal vs Boot Dataset/Boot/boot ...</td>\n",
              "      <td>boot (3213).jpg</td>\n",
              "      <td>Boot</td>\n",
              "    </tr>\n",
              "    <tr>\n",
              "      <th>14998</th>\n",
              "      <td>data/Shoe vs Sandal vs Boot Dataset/Boot/boot ...</td>\n",
              "      <td>boot (3170).jpg</td>\n",
              "      <td>Boot</td>\n",
              "    </tr>\n",
              "    <tr>\n",
              "      <th>14999</th>\n",
              "      <td>data/Shoe vs Sandal vs Boot Dataset/Boot/boot ...</td>\n",
              "      <td>boot (2983).jpg</td>\n",
              "      <td>Boot</td>\n",
              "    </tr>\n",
              "  </tbody>\n",
              "</table>\n",
              "<p>15000 rows × 3 columns</p>\n",
              "</div>\n",
              "    <div class=\"colab-df-buttons\">\n",
              "\n",
              "  <div class=\"colab-df-container\">\n",
              "    <button class=\"colab-df-convert\" onclick=\"convertToInteractive('df-8c5d267a-c181-43f7-ad9c-47cd0b4ef04b')\"\n",
              "            title=\"Convert this dataframe to an interactive table.\"\n",
              "            style=\"display:none;\">\n",
              "\n",
              "  <svg xmlns=\"http://www.w3.org/2000/svg\" height=\"24px\" viewBox=\"0 -960 960 960\">\n",
              "    <path d=\"M120-120v-720h720v720H120Zm60-500h600v-160H180v160Zm220 220h160v-160H400v160Zm0 220h160v-160H400v160ZM180-400h160v-160H180v160Zm440 0h160v-160H620v160ZM180-180h160v-160H180v160Zm440 0h160v-160H620v160Z\"/>\n",
              "  </svg>\n",
              "    </button>\n",
              "\n",
              "  <style>\n",
              "    .colab-df-container {\n",
              "      display:flex;\n",
              "      gap: 12px;\n",
              "    }\n",
              "\n",
              "    .colab-df-convert {\n",
              "      background-color: #E8F0FE;\n",
              "      border: none;\n",
              "      border-radius: 50%;\n",
              "      cursor: pointer;\n",
              "      display: none;\n",
              "      fill: #1967D2;\n",
              "      height: 32px;\n",
              "      padding: 0 0 0 0;\n",
              "      width: 32px;\n",
              "    }\n",
              "\n",
              "    .colab-df-convert:hover {\n",
              "      background-color: #E2EBFA;\n",
              "      box-shadow: 0px 1px 2px rgba(60, 64, 67, 0.3), 0px 1px 3px 1px rgba(60, 64, 67, 0.15);\n",
              "      fill: #174EA6;\n",
              "    }\n",
              "\n",
              "    .colab-df-buttons div {\n",
              "      margin-bottom: 4px;\n",
              "    }\n",
              "\n",
              "    [theme=dark] .colab-df-convert {\n",
              "      background-color: #3B4455;\n",
              "      fill: #D2E3FC;\n",
              "    }\n",
              "\n",
              "    [theme=dark] .colab-df-convert:hover {\n",
              "      background-color: #434B5C;\n",
              "      box-shadow: 0px 1px 3px 1px rgba(0, 0, 0, 0.15);\n",
              "      filter: drop-shadow(0px 1px 2px rgba(0, 0, 0, 0.3));\n",
              "      fill: #FFFFFF;\n",
              "    }\n",
              "  </style>\n",
              "\n",
              "    <script>\n",
              "      const buttonEl =\n",
              "        document.querySelector('#df-8c5d267a-c181-43f7-ad9c-47cd0b4ef04b button.colab-df-convert');\n",
              "      buttonEl.style.display =\n",
              "        google.colab.kernel.accessAllowed ? 'block' : 'none';\n",
              "\n",
              "      async function convertToInteractive(key) {\n",
              "        const element = document.querySelector('#df-8c5d267a-c181-43f7-ad9c-47cd0b4ef04b');\n",
              "        const dataTable =\n",
              "          await google.colab.kernel.invokeFunction('convertToInteractive',\n",
              "                                                    [key], {});\n",
              "        if (!dataTable) return;\n",
              "\n",
              "        const docLinkHtml = 'Like what you see? Visit the ' +\n",
              "          '<a target=\"_blank\" href=https://colab.research.google.com/notebooks/data_table.ipynb>data table notebook</a>'\n",
              "          + ' to learn more about interactive tables.';\n",
              "        element.innerHTML = '';\n",
              "        dataTable['output_type'] = 'display_data';\n",
              "        await google.colab.output.renderOutput(dataTable, element);\n",
              "        const docLink = document.createElement('div');\n",
              "        docLink.innerHTML = docLinkHtml;\n",
              "        element.appendChild(docLink);\n",
              "      }\n",
              "    </script>\n",
              "  </div>\n",
              "\n",
              "\n",
              "<div id=\"df-75ee85b9-632f-4bb2-9395-07aeb52e9c56\">\n",
              "  <button class=\"colab-df-quickchart\" onclick=\"quickchart('df-75ee85b9-632f-4bb2-9395-07aeb52e9c56')\"\n",
              "            title=\"Suggest charts\"\n",
              "            style=\"display:none;\">\n",
              "\n",
              "<svg xmlns=\"http://www.w3.org/2000/svg\" height=\"24px\"viewBox=\"0 0 24 24\"\n",
              "     width=\"24px\">\n",
              "    <g>\n",
              "        <path d=\"M19 3H5c-1.1 0-2 .9-2 2v14c0 1.1.9 2 2 2h14c1.1 0 2-.9 2-2V5c0-1.1-.9-2-2-2zM9 17H7v-7h2v7zm4 0h-2V7h2v10zm4 0h-2v-4h2v4z\"/>\n",
              "    </g>\n",
              "</svg>\n",
              "  </button>\n",
              "\n",
              "<style>\n",
              "  .colab-df-quickchart {\n",
              "      --bg-color: #E8F0FE;\n",
              "      --fill-color: #1967D2;\n",
              "      --hover-bg-color: #E2EBFA;\n",
              "      --hover-fill-color: #174EA6;\n",
              "      --disabled-fill-color: #AAA;\n",
              "      --disabled-bg-color: #DDD;\n",
              "  }\n",
              "\n",
              "  [theme=dark] .colab-df-quickchart {\n",
              "      --bg-color: #3B4455;\n",
              "      --fill-color: #D2E3FC;\n",
              "      --hover-bg-color: #434B5C;\n",
              "      --hover-fill-color: #FFFFFF;\n",
              "      --disabled-bg-color: #3B4455;\n",
              "      --disabled-fill-color: #666;\n",
              "  }\n",
              "\n",
              "  .colab-df-quickchart {\n",
              "    background-color: var(--bg-color);\n",
              "    border: none;\n",
              "    border-radius: 50%;\n",
              "    cursor: pointer;\n",
              "    display: none;\n",
              "    fill: var(--fill-color);\n",
              "    height: 32px;\n",
              "    padding: 0;\n",
              "    width: 32px;\n",
              "  }\n",
              "\n",
              "  .colab-df-quickchart:hover {\n",
              "    background-color: var(--hover-bg-color);\n",
              "    box-shadow: 0 1px 2px rgba(60, 64, 67, 0.3), 0 1px 3px 1px rgba(60, 64, 67, 0.15);\n",
              "    fill: var(--button-hover-fill-color);\n",
              "  }\n",
              "\n",
              "  .colab-df-quickchart-complete:disabled,\n",
              "  .colab-df-quickchart-complete:disabled:hover {\n",
              "    background-color: var(--disabled-bg-color);\n",
              "    fill: var(--disabled-fill-color);\n",
              "    box-shadow: none;\n",
              "  }\n",
              "\n",
              "  .colab-df-spinner {\n",
              "    border: 2px solid var(--fill-color);\n",
              "    border-color: transparent;\n",
              "    border-bottom-color: var(--fill-color);\n",
              "    animation:\n",
              "      spin 1s steps(1) infinite;\n",
              "  }\n",
              "\n",
              "  @keyframes spin {\n",
              "    0% {\n",
              "      border-color: transparent;\n",
              "      border-bottom-color: var(--fill-color);\n",
              "      border-left-color: var(--fill-color);\n",
              "    }\n",
              "    20% {\n",
              "      border-color: transparent;\n",
              "      border-left-color: var(--fill-color);\n",
              "      border-top-color: var(--fill-color);\n",
              "    }\n",
              "    30% {\n",
              "      border-color: transparent;\n",
              "      border-left-color: var(--fill-color);\n",
              "      border-top-color: var(--fill-color);\n",
              "      border-right-color: var(--fill-color);\n",
              "    }\n",
              "    40% {\n",
              "      border-color: transparent;\n",
              "      border-right-color: var(--fill-color);\n",
              "      border-top-color: var(--fill-color);\n",
              "    }\n",
              "    60% {\n",
              "      border-color: transparent;\n",
              "      border-right-color: var(--fill-color);\n",
              "    }\n",
              "    80% {\n",
              "      border-color: transparent;\n",
              "      border-right-color: var(--fill-color);\n",
              "      border-bottom-color: var(--fill-color);\n",
              "    }\n",
              "    90% {\n",
              "      border-color: transparent;\n",
              "      border-bottom-color: var(--fill-color);\n",
              "    }\n",
              "  }\n",
              "</style>\n",
              "\n",
              "  <script>\n",
              "    async function quickchart(key) {\n",
              "      const quickchartButtonEl =\n",
              "        document.querySelector('#' + key + ' button');\n",
              "      quickchartButtonEl.disabled = true;  // To prevent multiple clicks.\n",
              "      quickchartButtonEl.classList.add('colab-df-spinner');\n",
              "      try {\n",
              "        const charts = await google.colab.kernel.invokeFunction(\n",
              "            'suggestCharts', [key], {});\n",
              "      } catch (error) {\n",
              "        console.error('Error during call to suggestCharts:', error);\n",
              "      }\n",
              "      quickchartButtonEl.classList.remove('colab-df-spinner');\n",
              "      quickchartButtonEl.classList.add('colab-df-quickchart-complete');\n",
              "    }\n",
              "    (() => {\n",
              "      let quickchartButtonEl =\n",
              "        document.querySelector('#df-75ee85b9-632f-4bb2-9395-07aeb52e9c56 button');\n",
              "      quickchartButtonEl.style.display =\n",
              "        google.colab.kernel.accessAllowed ? 'block' : 'none';\n",
              "    })();\n",
              "  </script>\n",
              "</div>\n",
              "\n",
              "  <div id=\"id_f293305b-1cd4-4d10-a354-ceabbe1fdaa1\">\n",
              "    <style>\n",
              "      .colab-df-generate {\n",
              "        background-color: #E8F0FE;\n",
              "        border: none;\n",
              "        border-radius: 50%;\n",
              "        cursor: pointer;\n",
              "        display: none;\n",
              "        fill: #1967D2;\n",
              "        height: 32px;\n",
              "        padding: 0 0 0 0;\n",
              "        width: 32px;\n",
              "      }\n",
              "\n",
              "      .colab-df-generate:hover {\n",
              "        background-color: #E2EBFA;\n",
              "        box-shadow: 0px 1px 2px rgba(60, 64, 67, 0.3), 0px 1px 3px 1px rgba(60, 64, 67, 0.15);\n",
              "        fill: #174EA6;\n",
              "      }\n",
              "\n",
              "      [theme=dark] .colab-df-generate {\n",
              "        background-color: #3B4455;\n",
              "        fill: #D2E3FC;\n",
              "      }\n",
              "\n",
              "      [theme=dark] .colab-df-generate:hover {\n",
              "        background-color: #434B5C;\n",
              "        box-shadow: 0px 1px 3px 1px rgba(0, 0, 0, 0.15);\n",
              "        filter: drop-shadow(0px 1px 2px rgba(0, 0, 0, 0.3));\n",
              "        fill: #FFFFFF;\n",
              "      }\n",
              "    </style>\n",
              "    <button class=\"colab-df-generate\" onclick=\"generateWithVariable('df')\"\n",
              "            title=\"Generate code using this dataframe.\"\n",
              "            style=\"display:none;\">\n",
              "\n",
              "  <svg xmlns=\"http://www.w3.org/2000/svg\" height=\"24px\"viewBox=\"0 0 24 24\"\n",
              "       width=\"24px\">\n",
              "    <path d=\"M7,19H8.4L18.45,9,17,7.55,7,17.6ZM5,21V16.75L18.45,3.32a2,2,0,0,1,2.83,0l1.4,1.43a1.91,1.91,0,0,1,.58,1.4,1.91,1.91,0,0,1-.58,1.4L9.25,21ZM18.45,9,17,7.55Zm-12,3A5.31,5.31,0,0,0,4.9,8.1,5.31,5.31,0,0,0,1,6.5,5.31,5.31,0,0,0,4.9,4.9,5.31,5.31,0,0,0,6.5,1,5.31,5.31,0,0,0,8.1,4.9,5.31,5.31,0,0,0,12,6.5,5.46,5.46,0,0,0,6.5,12Z\"/>\n",
              "  </svg>\n",
              "    </button>\n",
              "    <script>\n",
              "      (() => {\n",
              "      const buttonEl =\n",
              "        document.querySelector('#id_f293305b-1cd4-4d10-a354-ceabbe1fdaa1 button.colab-df-generate');\n",
              "      buttonEl.style.display =\n",
              "        google.colab.kernel.accessAllowed ? 'block' : 'none';\n",
              "\n",
              "      buttonEl.onclick = () => {\n",
              "        google.colab.notebook.generateWithVariable('df');\n",
              "      }\n",
              "      })();\n",
              "    </script>\n",
              "  </div>\n",
              "\n",
              "    </div>\n",
              "  </div>\n"
            ],
            "application/vnd.google.colaboratory.intrinsic+json": {
              "type": "dataframe",
              "variable_name": "df",
              "summary": "{\n  \"name\": \"df\",\n  \"rows\": 15000,\n  \"fields\": [\n    {\n      \"column\": \"path\",\n      \"properties\": {\n        \"dtype\": \"string\",\n        \"num_unique_values\": 15000,\n        \"samples\": [\n          \"data/Shoe vs Sandal vs Boot Dataset/Boot/boot (2739).jpg\",\n          \"data/Shoe vs Sandal vs Boot Dataset/Shoe/Shoe (208).jpg\",\n          \"data/Shoe vs Sandal vs Boot Dataset/Boot/boot (58).jpg\"\n        ],\n        \"semantic_type\": \"\",\n        \"description\": \"\"\n      }\n    },\n    {\n      \"column\": \"file_name\",\n      \"properties\": {\n        \"dtype\": \"string\",\n        \"num_unique_values\": 15000,\n        \"samples\": [\n          \"boot (2739).jpg\",\n          \"Shoe (208).jpg\",\n          \"boot (58).jpg\"\n        ],\n        \"semantic_type\": \"\",\n        \"description\": \"\"\n      }\n    },\n    {\n      \"column\": \"labels\",\n      \"properties\": {\n        \"dtype\": \"category\",\n        \"num_unique_values\": 3,\n        \"samples\": [\n          \"Sandal\",\n          \"Shoe\",\n          \"Boot\"\n        ],\n        \"semantic_type\": \"\",\n        \"description\": \"\"\n      }\n    }\n  ]\n}"
            }
          },
          "metadata": {},
          "execution_count": 10
        }
      ],
      "source": [
        "df = pd.DataFrame({\"path\": full_path, 'file_name': file_name, \"labels\": labels})\n",
        "df"
      ]
    },
    {
      "cell_type": "markdown",
      "metadata": {
        "id": "f220IB-7fIGf"
      },
      "source": [
        "Memisahkan label dan membagi dataset menjadi train dan test\n",
        "\n",
        "\n",
        "\n",
        "\n",
        "> **Dataset Dibagi Menjadi 80% Train Set dan 20% Test Set**\n",
        "\n"
      ]
    },
    {
      "cell_type": "code",
      "execution_count": 11,
      "metadata": {
        "id": "lvaRW2TMc1zm"
      },
      "outputs": [],
      "source": [
        "for category in categories:\n",
        "    class_path = os.path.join(extract_dir, category)\n",
        "    if os.path.isdir(class_path):\n",
        "        images = [f for f in os.listdir(class_path) if f.endswith('.jpg')]\n",
        "        train_images, test_images = train_test_split(images, test_size=0.2, random_state=42)\n",
        "\n",
        "        train_dir = os.path.join('data_augmented', 'train', category)\n",
        "        test_dir = os.path.join('data_augmented', 'test', category)\n",
        "        os.makedirs(train_dir, exist_ok=True)\n",
        "        os.makedirs(test_dir, exist_ok=True)\n",
        "\n",
        "        for img in train_images:\n",
        "            shutil.copy2(os.path.join(class_path, img), os.path.join(train_dir, img))\n",
        "\n",
        "        for img in test_images:\n",
        "            shutil.copy2(os.path.join(class_path, img), os.path.join(test_dir, img))"
      ]
    },
    {
      "cell_type": "markdown",
      "metadata": {
        "id": "q5F6jm5pmv0g"
      },
      "source": [
        "mendefinisikan directory train dan test"
      ]
    },
    {
      "cell_type": "code",
      "execution_count": 12,
      "metadata": {
        "id": "z4ZTzD20mAsL"
      },
      "outputs": [],
      "source": [
        "train_dir = 'data_augmented/train'\n",
        "test_dir = 'data_augmented/test'"
      ]
    },
    {
      "cell_type": "markdown",
      "metadata": {
        "id": "peAEiYFkgODR"
      },
      "source": [
        "## **Augmentasi data**"
      ]
    },
    {
      "cell_type": "markdown",
      "metadata": {
        "id": "mQxkyV4AnEmh"
      },
      "source": [
        "menormalisasikan data"
      ]
    },
    {
      "cell_type": "code",
      "execution_count": 13,
      "metadata": {
        "id": "WDvSswMkYR73",
        "colab": {
          "base_uri": "https://localhost:8080/"
        },
        "outputId": "dfc1906a-bb99-423e-eca7-db23d0dd8beb"
      },
      "outputs": [
        {
          "output_type": "stream",
          "name": "stdout",
          "text": [
            "Found 9600 images belonging to 3 classes.\n",
            "Found 2400 images belonging to 3 classes.\n",
            "Found 3000 images belonging to 3 classes.\n"
          ]
        }
      ],
      "source": [
        "train_datagen = ImageDataGenerator(\n",
        "    rescale=1./255,\n",
        "    rotation_range=20,\n",
        "    width_shift_range=0.1,\n",
        "    height_shift_range=0.1,\n",
        "    shear_range=0.1,\n",
        "    zoom_range=0.1,\n",
        "    horizontal_flip=True,\n",
        "    fill_mode='nearest',\n",
        "    validation_split=0.2\n",
        ")\n",
        "\n",
        "test_datagen = ImageDataGenerator(rescale=1./255)\n",
        "\n",
        "train_generator = train_datagen.flow_from_directory(\n",
        "    train_dir,\n",
        "    target_size=(136, 102),\n",
        "    batch_size=32,\n",
        "    class_mode='categorical',\n",
        "    subset='training',\n",
        "    shuffle=True\n",
        ")\n",
        "\n",
        "validation_generator = train_datagen.flow_from_directory(\n",
        "    train_dir,\n",
        "    target_size=(136, 102),\n",
        "    batch_size=32,\n",
        "    class_mode='categorical',\n",
        "    subset='validation',\n",
        "    shuffle=True\n",
        ")\n",
        "\n",
        "test_generator = test_datagen.flow_from_directory(\n",
        "    test_dir,\n",
        "    target_size=(136, 102),\n",
        "    batch_size=32,\n",
        "    class_mode='categorical',\n",
        "    shuffle=False\n",
        ")"
      ]
    },
    {
      "cell_type": "markdown",
      "metadata": {
        "id": "RoEWh5VnoNd4"
      },
      "source": [
        "## **Membangun model yang  Menggunakan Model Sequential, Conv2D, Pooling Layer**"
      ]
    },
    {
      "cell_type": "code",
      "execution_count": 14,
      "metadata": {
        "id": "tKhdEhsKcsuX"
      },
      "outputs": [],
      "source": [
        "model = tf.keras.models.Sequential([\n",
        "     tf.keras.layers.Conv2D(64, (3, 3), activation='relu', input_shape=(136, 102, 3)),\n",
        "     tf.keras.layers.MaxPooling2D(pool_size=(2, 2)),\n",
        "     tf.keras.layers.Dropout(0.25),\n",
        "     tf.keras.layers.Conv2D(128, (3, 3), activation='relu'),\n",
        "     tf.keras.layers.MaxPooling2D(pool_size=(2, 2)),\n",
        "     tf.keras.layers.Dropout(0.25),\n",
        "\n",
        "     tf.keras.layers.Conv2D(256, (3, 3), activation='relu'),\n",
        "     tf.keras.layers.MaxPooling2D(pool_size=(2, 2)),\n",
        "     tf.keras.layers.Dropout(0.25),\n",
        "\n",
        "     tf.keras.layers.GlobalAveragePooling2D(),\n",
        "\n",
        "     tf.keras.layers.Dense(512, activation='relu'),\n",
        "     tf.keras.layers.Dropout(0.5),\n",
        "\n",
        "     tf.keras.layers.Dense(256, activation='relu'),\n",
        "     tf.keras.layers.Dropout(0.5),\n",
        "     tf.keras.layers.Dense(3, activation='softmax')\n",
        "])"
      ]
    },
    {
      "cell_type": "markdown",
      "metadata": {
        "id": "oGOOQ4RToUVZ"
      },
      "source": [
        "Cek arsitektur model"
      ]
    },
    {
      "cell_type": "code",
      "execution_count": 15,
      "metadata": {
        "id": "Ghfleh1on793",
        "colab": {
          "base_uri": "https://localhost:8080/"
        },
        "outputId": "a71e0976-9897-40f1-e993-8e895229637e"
      },
      "outputs": [
        {
          "output_type": "stream",
          "name": "stdout",
          "text": [
            "Model: \"sequential\"\n",
            "_________________________________________________________________\n",
            " Layer (type)                Output Shape              Param #   \n",
            "=================================================================\n",
            " conv2d (Conv2D)             (None, 134, 100, 64)      1792      \n",
            "                                                                 \n",
            " max_pooling2d (MaxPooling2  (None, 67, 50, 64)        0         \n",
            " D)                                                              \n",
            "                                                                 \n",
            " dropout (Dropout)           (None, 67, 50, 64)        0         \n",
            "                                                                 \n",
            " conv2d_1 (Conv2D)           (None, 65, 48, 128)       73856     \n",
            "                                                                 \n",
            " max_pooling2d_1 (MaxPoolin  (None, 32, 24, 128)       0         \n",
            " g2D)                                                            \n",
            "                                                                 \n",
            " dropout_1 (Dropout)         (None, 32, 24, 128)       0         \n",
            "                                                                 \n",
            " conv2d_2 (Conv2D)           (None, 30, 22, 256)       295168    \n",
            "                                                                 \n",
            " max_pooling2d_2 (MaxPoolin  (None, 15, 11, 256)       0         \n",
            " g2D)                                                            \n",
            "                                                                 \n",
            " dropout_2 (Dropout)         (None, 15, 11, 256)       0         \n",
            "                                                                 \n",
            " global_average_pooling2d (  (None, 256)               0         \n",
            " GlobalAveragePooling2D)                                         \n",
            "                                                                 \n",
            " dense (Dense)               (None, 512)               131584    \n",
            "                                                                 \n",
            " dropout_3 (Dropout)         (None, 512)               0         \n",
            "                                                                 \n",
            " dense_1 (Dense)             (None, 256)               131328    \n",
            "                                                                 \n",
            " dropout_4 (Dropout)         (None, 256)               0         \n",
            "                                                                 \n",
            " dense_2 (Dense)             (None, 3)                 771       \n",
            "                                                                 \n",
            "=================================================================\n",
            "Total params: 634499 (2.42 MB)\n",
            "Trainable params: 634499 (2.42 MB)\n",
            "Non-trainable params: 0 (0.00 Byte)\n",
            "_________________________________________________________________\n"
          ]
        }
      ],
      "source": [
        "model.summary()"
      ]
    },
    {
      "cell_type": "markdown",
      "metadata": {
        "id": "ri3Iu7s1oq5k"
      },
      "source": [
        "Compaile model yang sudah dibuat"
      ]
    },
    {
      "cell_type": "code",
      "execution_count": 16,
      "metadata": {
        "id": "hT1ktPUQn8In"
      },
      "outputs": [],
      "source": [
        "model.compile(optimizer=tf.keras.optimizers.Adam(learning_rate=0.001),\n",
        "              loss='categorical_crossentropy',\n",
        "              metrics=['accuracy'])"
      ]
    },
    {
      "cell_type": "markdown",
      "source": [
        "# **Mengimplementasikan Callback**"
      ],
      "metadata": {
        "id": "k8Y5c-N_PC-9"
      }
    },
    {
      "cell_type": "markdown",
      "metadata": {
        "id": "UdnmIUWbpSEw"
      },
      "source": [
        "Buat fungsi callback yang memanggil model saat sendang dilatih ketika akurasi sudah sesuai yang diinginkan"
      ]
    },
    {
      "cell_type": "code",
      "execution_count": 17,
      "metadata": {
        "id": "VhFl2oDupS-g"
      },
      "outputs": [],
      "source": [
        "class myCallback(tf.keras.callbacks.Callback):\n",
        "    def on_epoch_end(self, epoch, logs={}):\n",
        "        if (logs.get('val_accuracy') >= 0.92 and logs.get('accuracy') >= 0.92):\n",
        "            print(\"\\nPelatihan harus dihentikan karena Sudah mencapai target yang diinginkan\")\n",
        "            self.model.stop_training = True\n",
        "\n",
        "callbacks = myCallback()"
      ]
    },
    {
      "cell_type": "markdown",
      "metadata": {
        "id": "7iYS46uip_Sm"
      },
      "source": [
        "mendefinisikan variabel untuk mengatur epoch dan lain lain"
      ]
    },
    {
      "cell_type": "code",
      "execution_count": 18,
      "metadata": {
        "id": "nwnHL9Rrp-7O"
      },
      "outputs": [],
      "source": [
        "Epoch_count = 30\n",
        "reduce_lr = tf.keras.callbacks.ReduceLROnPlateau(monitor='val_loss', factor=0.5, patience=5, min_lr=1e-6, verbose=1)"
      ]
    },
    {
      "cell_type": "markdown",
      "metadata": {
        "id": "6m1XtRGNo3PW"
      },
      "source": [
        "Latih Model"
      ]
    },
    {
      "cell_type": "code",
      "execution_count": 19,
      "metadata": {
        "id": "A_b6tiChotJs",
        "colab": {
          "base_uri": "https://localhost:8080/"
        },
        "outputId": "43ee21bb-a770-4f99-d477-ab00c5c092bc"
      },
      "outputs": [
        {
          "output_type": "stream",
          "name": "stdout",
          "text": [
            "Epoch 1/30\n",
            "300/300 [==============================] - 72s 191ms/step - loss: 1.0070 - accuracy: 0.4733 - val_loss: 0.9211 - val_accuracy: 0.5725 - lr: 0.0010\n",
            "Epoch 2/30\n",
            "300/300 [==============================] - 61s 202ms/step - loss: 0.8227 - accuracy: 0.6016 - val_loss: 0.6789 - val_accuracy: 0.7050 - lr: 0.0010\n",
            "Epoch 3/30\n",
            "300/300 [==============================] - 57s 189ms/step - loss: 0.6509 - accuracy: 0.7089 - val_loss: 0.5361 - val_accuracy: 0.7671 - lr: 0.0010\n",
            "Epoch 4/30\n",
            "300/300 [==============================] - 64s 213ms/step - loss: 0.5495 - accuracy: 0.7700 - val_loss: 0.4838 - val_accuracy: 0.7958 - lr: 0.0010\n",
            "Epoch 5/30\n",
            "300/300 [==============================] - 79s 263ms/step - loss: 0.4885 - accuracy: 0.7953 - val_loss: 0.4491 - val_accuracy: 0.8196 - lr: 0.0010\n",
            "Epoch 6/30\n",
            "300/300 [==============================] - 57s 190ms/step - loss: 0.4493 - accuracy: 0.8218 - val_loss: 0.3712 - val_accuracy: 0.8537 - lr: 0.0010\n",
            "Epoch 7/30\n",
            "300/300 [==============================] - 57s 190ms/step - loss: 0.4143 - accuracy: 0.8359 - val_loss: 0.4759 - val_accuracy: 0.7937 - lr: 0.0010\n",
            "Epoch 8/30\n",
            "300/300 [==============================] - 57s 191ms/step - loss: 0.3843 - accuracy: 0.8505 - val_loss: 0.3314 - val_accuracy: 0.8721 - lr: 0.0010\n",
            "Epoch 9/30\n",
            "300/300 [==============================] - 55s 185ms/step - loss: 0.3463 - accuracy: 0.8635 - val_loss: 0.3042 - val_accuracy: 0.8792 - lr: 0.0010\n",
            "Epoch 10/30\n",
            "300/300 [==============================] - 57s 190ms/step - loss: 0.3401 - accuracy: 0.8670 - val_loss: 0.2924 - val_accuracy: 0.8850 - lr: 0.0010\n",
            "Epoch 11/30\n",
            "300/300 [==============================] - 66s 221ms/step - loss: 0.3324 - accuracy: 0.8682 - val_loss: 0.3059 - val_accuracy: 0.8871 - lr: 0.0010\n",
            "Epoch 12/30\n",
            "300/300 [==============================] - 60s 198ms/step - loss: 0.3008 - accuracy: 0.8840 - val_loss: 0.2661 - val_accuracy: 0.8933 - lr: 0.0010\n",
            "Epoch 13/30\n",
            "300/300 [==============================] - 56s 188ms/step - loss: 0.2878 - accuracy: 0.8906 - val_loss: 0.2691 - val_accuracy: 0.8942 - lr: 0.0010\n",
            "Epoch 14/30\n",
            "300/300 [==============================] - 56s 186ms/step - loss: 0.2678 - accuracy: 0.8974 - val_loss: 0.2712 - val_accuracy: 0.9008 - lr: 0.0010\n",
            "Epoch 15/30\n",
            "300/300 [==============================] - 56s 187ms/step - loss: 0.2690 - accuracy: 0.8949 - val_loss: 0.2192 - val_accuracy: 0.9162 - lr: 0.0010\n",
            "Epoch 16/30\n",
            "300/300 [==============================] - 58s 193ms/step - loss: 0.2614 - accuracy: 0.8981 - val_loss: 0.2165 - val_accuracy: 0.9175 - lr: 0.0010\n",
            "Epoch 17/30\n",
            "300/300 [==============================] - 57s 189ms/step - loss: 0.2559 - accuracy: 0.9042 - val_loss: 0.2029 - val_accuracy: 0.9262 - lr: 0.0010\n",
            "Epoch 18/30\n",
            "300/300 [==============================] - 56s 186ms/step - loss: 0.2454 - accuracy: 0.9071 - val_loss: 0.1959 - val_accuracy: 0.9271 - lr: 0.0010\n",
            "Epoch 19/30\n",
            "300/300 [==============================] - 56s 187ms/step - loss: 0.2453 - accuracy: 0.9061 - val_loss: 0.2004 - val_accuracy: 0.9233 - lr: 0.0010\n",
            "Epoch 20/30\n",
            "300/300 [==============================] - 56s 188ms/step - loss: 0.2270 - accuracy: 0.9147 - val_loss: 0.2113 - val_accuracy: 0.9262 - lr: 0.0010\n",
            "Epoch 21/30\n",
            "300/300 [==============================] - 57s 191ms/step - loss: 0.2331 - accuracy: 0.9129 - val_loss: 0.2174 - val_accuracy: 0.9204 - lr: 0.0010\n",
            "Epoch 22/30\n",
            "300/300 [==============================] - 58s 193ms/step - loss: 0.2283 - accuracy: 0.9154 - val_loss: 0.2083 - val_accuracy: 0.9175 - lr: 0.0010\n",
            "Epoch 23/30\n",
            "300/300 [==============================] - 57s 188ms/step - loss: 0.2225 - accuracy: 0.9164 - val_loss: 0.1782 - val_accuracy: 0.9379 - lr: 0.0010\n",
            "Epoch 24/30\n",
            "300/300 [==============================] - ETA: 0s - loss: 0.2104 - accuracy: 0.9207\n",
            "Pelatihan harus dihentikan karena Sudah mencapai target yang diinginkan\n",
            "300/300 [==============================] - 56s 186ms/step - loss: 0.2104 - accuracy: 0.9207 - val_loss: 0.1956 - val_accuracy: 0.9275 - lr: 0.0010\n"
          ]
        }
      ],
      "source": [
        "history = model.fit(\n",
        "    train_generator,\n",
        "    validation_data=validation_generator,\n",
        "    epochs=Epoch_count,\n",
        "    callbacks=[callbacks, reduce_lr]\n",
        ")"
      ]
    },
    {
      "cell_type": "markdown",
      "metadata": {
        "id": "h4eiea2oCJqK"
      },
      "source": [
        "## **Plot Akurasi Model**"
      ]
    },
    {
      "cell_type": "code",
      "execution_count": 20,
      "metadata": {
        "id": "0faxcKssCJiy",
        "colab": {
          "base_uri": "https://localhost:8080/",
          "height": 472
        },
        "outputId": "dd61a5c1-2d83-440a-fcba-0219d672e084"
      },
      "outputs": [
        {
          "output_type": "display_data",
          "data": {
            "text/plain": [
              "<Figure size 640x480 with 1 Axes>"
            ],
            "image/png": "[encoded data removed]"
          },
          "metadata": {}
        }
      ],
      "source": [
        "plt.plot(history.history['accuracy'])\n",
        "plt.plot(history.history['val_accuracy'])\n",
        "plt.title('history accuracy')\n",
        "plt.ylabel('Accuracy')\n",
        "plt.xlabel('Epoch')\n",
        "plt.legend(['Train'], loc='lower right')\n",
        "plt.show()"
      ]
    },
    {
      "cell_type": "markdown",
      "metadata": {
        "id": "29PFDkIXCBCw"
      },
      "source": [
        "## **Plot Loss Model**"
      ]
    },
    {
      "cell_type": "code",
      "execution_count": 21,
      "metadata": {
        "id": "4-V1PRLKCA84",
        "colab": {
          "base_uri": "https://localhost:8080/",
          "height": 472
        },
        "outputId": "2f30a091-b6a2-44b5-90b2-86114dc94f57"
      },
      "outputs": [
        {
          "output_type": "display_data",
          "data": {
            "text/plain": [
              "<Figure size 640x480 with 1 Axes>"
            ],
            "image/png": "[encoded data removed]"
          },
          "metadata": {}
        }
      ],
      "source": [
        "plt.plot(history.history['loss'])\n",
        "plt.plot(history.history['val_loss'])\n",
        "plt.title('history loss')\n",
        "plt.ylabel('Loss')\n",
        "plt.xlabel('Epoch')\n",
        "plt.legend(['Train'], loc='upper right')\n",
        "plt.show()"
      ]
    },
    {
      "cell_type": "markdown",
      "metadata": {
        "id": "U6L1vaaH2PLb"
      },
      "source": [
        "## Menyimpan model ke dalam savedModel, TF-lite, TFJS\n",
        "---\n",
        "\n"
      ]
    },
    {
      "cell_type": "code",
      "execution_count": 22,
      "metadata": {
        "id": "wfu0R9flqz4D"
      },
      "outputs": [],
      "source": [
        "import tensorflow as tf\n",
        "save_path = 'mymodel/'\n",
        "tf.saved_model.save(model, save_path)"
      ]
    },
    {
      "cell_type": "markdown",
      "metadata": {
        "id": "_EIOCckr2XN7"
      },
      "source": [
        "## Convert SavedModel menjadi vegs.tflite\n",
        "\n"
      ]
    },
    {
      "cell_type": "code",
      "execution_count": 25,
      "metadata": {
        "id": "MqWlwyGC2c4s",
        "colab": {
          "base_uri": "https://localhost:8080/"
        },
        "outputId": "7423285d-0dca-4ef1-b351-047c0fa5417a"
      },
      "outputs": [
        {
          "output_type": "execute_result",
          "data": {
            "text/plain": [
              "2542540"
            ]
          },
          "metadata": {},
          "execution_count": 25
        }
      ],
      "source": [
        "converter = tf.lite.TFLiteConverter.from_saved_model(save_path)\n",
        "tflite_model = converter.convert()\n",
        "\n",
        "tflite_model_file = pathlib.Path('shoes.tflite')\n",
        "tflite_model_file.write_bytes(tflite_model)\n"
      ]
    },
    {
      "cell_type": "markdown",
      "metadata": {
        "id": "DMJn1km_1sBQ"
      },
      "source": [
        "## Save model to TensorflowJs Untuk Dijalankan di Web"
      ]
    },
    {
      "cell_type": "code",
      "execution_count": 26,
      "metadata": {
        "id": "R1j8G7t210LI",
        "colab": {
          "base_uri": "https://localhost:8080/"
        },
        "outputId": "b862bd49-e1bb-4f30-ffc0-8faa18a3d5bb"
      },
      "outputs": [
        {
          "output_type": "stream",
          "name": "stderr",
          "text": [
            "/usr/local/lib/python3.10/dist-packages/keras/src/engine/training.py:3103: UserWarning: You are saving your model as an HDF5 file via `model.save()`. This file format is considered legacy. We recommend using instead the native Keras format, e.g. `model.save('my_model.keras')`.\n",
            "  saving_api.save_model(\n"
          ]
        }
      ],
      "source": [
        "model.save(\"model.h5\")"
      ]
    },
    {
      "cell_type": "markdown",
      "metadata": {
        "id": "6CEipqGS1z4A"
      },
      "source": [
        "install Tensorflof Js"
      ]
    },
    {
      "cell_type": "code",
      "execution_count": 27,
      "metadata": {
        "id": "JIi8f96N1wdN",
        "colab": {
          "base_uri": "https://localhost:8080/",
          "height": 1000
        },
        "outputId": "fcc2dc74-20bd-4595-834b-56a6c9bbaaa7"
      },
      "outputs": [
        {
          "output_type": "stream",
          "name": "stdout",
          "text": [
            "Collecting tensorflowjs\n",
            "  Downloading tensorflowjs-4.20.0-py3-none-any.whl (89 kB)\n",
            "\u001b[?25l     \u001b[90m━━━━━━━━━━━━━━━━━━━━━━━━━━━━━━━━━━━━━━━━\u001b[0m \u001b[32m0.0/89.1 kB\u001b[0m \u001b[31m?\u001b[0m eta \u001b[36m-:--:--\u001b[0m\r\u001b[2K     \u001b[90m━━━━━━━━━━━━━━━━━━━━━━━━━━━━━━━━━━━━━━━━\u001b[0m \u001b[32m89.1/89.1 kB\u001b[0m \u001b[31m3.3 MB/s\u001b[0m eta \u001b[36m0:00:00\u001b[0m\n",
            "\u001b[?25hRequirement already satisfied: flax>=0.7.2 in /usr/local/lib/python3.10/dist-packages (from tensorflowjs) (0.8.4)\n",
            "Requirement already satisfied: importlib_resources>=5.9.0 in /usr/local/lib/python3.10/dist-packages (from tensorflowjs) (6.4.0)\n",
            "Requirement already satisfied: jax>=0.4.13 in /usr/local/lib/python3.10/dist-packages (from tensorflowjs) (0.4.26)\n",
            "Requirement already satisfied: jaxlib>=0.4.13 in /usr/local/lib/python3.10/dist-packages (from tensorflowjs) (0.4.26+cuda12.cudnn89)\n",
            "Requirement already satisfied: tensorflow<3,>=2.13.0 in /usr/local/lib/python3.10/dist-packages (from tensorflowjs) (2.15.0)\n",
            "Requirement already satisfied: tf-keras>=2.13.0 in /usr/local/lib/python3.10/dist-packages (from tensorflowjs) (2.15.1)\n",
            "Collecting tensorflow-decision-forests>=1.5.0 (from tensorflowjs)\n",
            "  Downloading tensorflow_decision_forests-1.9.2-cp310-cp310-manylinux_2_17_x86_64.manylinux2014_x86_64.whl (15.5 MB)\n",
            "\u001b[2K     \u001b[90m━━━━━━━━━━━━━━━━━━━━━━━━━━━━━━━━━━━━━━━━\u001b[0m \u001b[32m15.5/15.5 MB\u001b[0m \u001b[31m63.9 MB/s\u001b[0m eta \u001b[36m0:00:00\u001b[0m\n",
            "\u001b[?25hRequirement already satisfied: six<2,>=1.16.0 in /usr/local/lib/python3.10/dist-packages (from tensorflowjs) (1.16.0)\n",
            "Requirement already satisfied: tensorflow-hub>=0.16.1 in /usr/local/lib/python3.10/dist-packages (from tensorflowjs) (0.16.1)\n",
            "Collecting packaging~=23.1 (from tensorflowjs)\n",
            "  Downloading packaging-23.2-py3-none-any.whl (53 kB)\n",
            "\u001b[2K     \u001b[90m━━━━━━━━━━━━━━━━━━━━━━━━━━━━━━━━━━━━━━━━\u001b[0m \u001b[32m53.0/53.0 kB\u001b[0m \u001b[31m7.6 MB/s\u001b[0m eta \u001b[36m0:00:00\u001b[0m\n",
            "\u001b[?25hRequirement already satisfied: numpy>=1.22 in /usr/local/lib/python3.10/dist-packages (from flax>=0.7.2->tensorflowjs) (1.25.2)\n",
            "Requirement already satisfied: msgpack in /usr/local/lib/python3.10/dist-packages (from flax>=0.7.2->tensorflowjs) (1.0.8)\n",
            "Requirement already satisfied: optax in /usr/local/lib/python3.10/dist-packages (from flax>=0.7.2->tensorflowjs) (0.2.2)\n",
            "Requirement already satisfied: orbax-checkpoint in /usr/local/lib/python3.10/dist-packages (from flax>=0.7.2->tensorflowjs) (0.4.4)\n",
            "Requirement already satisfied: tensorstore in /usr/local/lib/python3.10/dist-packages (from flax>=0.7.2->tensorflowjs) (0.1.45)\n",
            "Requirement already satisfied: rich>=11.1 in /usr/local/lib/python3.10/dist-packages (from flax>=0.7.2->tensorflowjs) (13.7.1)\n",
            "Requirement already satisfied: typing-extensions>=4.2 in /usr/local/lib/python3.10/dist-packages (from flax>=0.7.2->tensorflowjs) (4.12.2)\n",
            "Requirement already satisfied: PyYAML>=5.4.1 in /usr/local/lib/python3.10/dist-packages (from flax>=0.7.2->tensorflowjs) (6.0.1)\n",
            "Requirement already satisfied: ml-dtypes>=0.2.0 in /usr/local/lib/python3.10/dist-packages (from jax>=0.4.13->tensorflowjs) (0.2.0)\n",
            "Requirement already satisfied: opt-einsum in /usr/local/lib/python3.10/dist-packages (from jax>=0.4.13->tensorflowjs) (3.3.0)\n",
            "Requirement already satisfied: scipy>=1.9 in /usr/local/lib/python3.10/dist-packages (from jax>=0.4.13->tensorflowjs) (1.11.4)\n",
            "Requirement already satisfied: absl-py>=1.0.0 in /usr/local/lib/python3.10/dist-packages (from tensorflow<3,>=2.13.0->tensorflowjs) (1.4.0)\n",
            "Requirement already satisfied: astunparse>=1.6.0 in /usr/local/lib/python3.10/dist-packages (from tensorflow<3,>=2.13.0->tensorflowjs) (1.6.3)\n",
            "Requirement already satisfied: flatbuffers>=23.5.26 in /usr/local/lib/python3.10/dist-packages (from tensorflow<3,>=2.13.0->tensorflowjs) (24.3.25)\n",
            "Requirement already satisfied: gast!=0.5.0,!=0.5.1,!=0.5.2,>=0.2.1 in /usr/local/lib/python3.10/dist-packages (from tensorflow<3,>=2.13.0->tensorflowjs) (0.6.0)\n",
            "Requirement already satisfied: google-pasta>=0.1.1 in /usr/local/lib/python3.10/dist-packages (from tensorflow<3,>=2.13.0->tensorflowjs) (0.2.0)\n",
            "Requirement already satisfied: h5py>=2.9.0 in /usr/local/lib/python3.10/dist-packages (from tensorflow<3,>=2.13.0->tensorflowjs) (3.9.0)\n",
            "Requirement already satisfied: libclang>=13.0.0 in /usr/local/lib/python3.10/dist-packages (from tensorflow<3,>=2.13.0->tensorflowjs) (18.1.1)\n",
            "Requirement already satisfied: protobuf!=4.21.0,!=4.21.1,!=4.21.2,!=4.21.3,!=4.21.4,!=4.21.5,<5.0.0dev,>=3.20.3 in /usr/local/lib/python3.10/dist-packages (from tensorflow<3,>=2.13.0->tensorflowjs) (3.20.3)\n",
            "Requirement already satisfied: setuptools in /usr/local/lib/python3.10/dist-packages (from tensorflow<3,>=2.13.0->tensorflowjs) (67.7.2)\n",
            "Requirement already satisfied: termcolor>=1.1.0 in /usr/local/lib/python3.10/dist-packages (from tensorflow<3,>=2.13.0->tensorflowjs) (2.4.0)\n",
            "Requirement already satisfied: wrapt<1.15,>=1.11.0 in /usr/local/lib/python3.10/dist-packages (from tensorflow<3,>=2.13.0->tensorflowjs) (1.14.1)\n",
            "Requirement already satisfied: tensorflow-io-gcs-filesystem>=0.23.1 in /usr/local/lib/python3.10/dist-packages (from tensorflow<3,>=2.13.0->tensorflowjs) (0.37.0)\n",
            "Requirement already satisfied: grpcio<2.0,>=1.24.3 in /usr/local/lib/python3.10/dist-packages (from tensorflow<3,>=2.13.0->tensorflowjs) (1.64.1)\n",
            "Requirement already satisfied: tensorboard<2.16,>=2.15 in /usr/local/lib/python3.10/dist-packages (from tensorflow<3,>=2.13.0->tensorflowjs) (2.15.2)\n",
            "Requirement already satisfied: tensorflow-estimator<2.16,>=2.15.0 in /usr/local/lib/python3.10/dist-packages (from tensorflow<3,>=2.13.0->tensorflowjs) (2.15.0)\n",
            "Requirement already satisfied: keras<2.16,>=2.15.0 in /usr/local/lib/python3.10/dist-packages (from tensorflow<3,>=2.13.0->tensorflowjs) (2.15.0)\n",
            "Requirement already satisfied: pandas in /usr/local/lib/python3.10/dist-packages (from tensorflow-decision-forests>=1.5.0->tensorflowjs) (2.0.3)\n",
            "Collecting tensorflow<3,>=2.13.0 (from tensorflowjs)\n",
            "  Downloading tensorflow-2.16.2-cp310-cp310-manylinux_2_17_x86_64.manylinux2014_x86_64.whl (590.6 MB)\n",
            "\u001b[2K     \u001b[90m━━━━━━━━━━━━━━━━━━━━━━━━━━━━━━━━━━━━━━━━\u001b[0m \u001b[32m590.6/590.6 MB\u001b[0m \u001b[31m1.9 MB/s\u001b[0m eta \u001b[36m0:00:00\u001b[0m\n",
            "\u001b[?25hRequirement already satisfied: wheel in /usr/local/lib/python3.10/dist-packages (from tensorflow-decision-forests>=1.5.0->tensorflowjs) (0.43.0)\n",
            "Collecting wurlitzer (from tensorflow-decision-forests>=1.5.0->tensorflowjs)\n",
            "  Downloading wurlitzer-3.1.1-py3-none-any.whl (8.6 kB)\n",
            "Collecting tf-keras>=2.13.0 (from tensorflowjs)\n",
            "  Downloading tf_keras-2.16.0-py3-none-any.whl (1.7 MB)\n",
            "\u001b[2K     \u001b[90m━━━━━━━━━━━━━━━━━━━━━━━━━━━━━━━━━━━━━━━━\u001b[0m \u001b[32m1.7/1.7 MB\u001b[0m \u001b[31m89.7 MB/s\u001b[0m eta \u001b[36m0:00:00\u001b[0m\n",
            "\u001b[?25hCollecting ydf (from tensorflow-decision-forests>=1.5.0->tensorflowjs)\n",
            "  Downloading ydf-0.6.0-cp310-cp310-manylinux_2_17_x86_64.manylinux2014_x86_64.whl (9.3 MB)\n",
            "\u001b[2K     \u001b[90m━━━━━━━━━━━━━━━━━━━━━━━━━━━━━━━━━━━━━━━━\u001b[0m \u001b[32m9.3/9.3 MB\u001b[0m \u001b[31m68.9 MB/s\u001b[0m eta \u001b[36m0:00:00\u001b[0m\n",
            "\u001b[?25hCollecting h5py>=3.10.0 (from tensorflow<3,>=2.13.0->tensorflowjs)\n",
            "  Downloading h5py-3.11.0-cp310-cp310-manylinux_2_17_x86_64.manylinux2014_x86_64.whl (5.3 MB)\n",
            "\u001b[2K     \u001b[90m━━━━━━━━━━━━━━━━━━━━━━━━━━━━━━━━━━━━━━━━\u001b[0m \u001b[32m5.3/5.3 MB\u001b[0m \u001b[31m105.4 MB/s\u001b[0m eta \u001b[36m0:00:00\u001b[0m\n",
            "\u001b[?25hCollecting ml-dtypes>=0.2.0 (from jax>=0.4.13->tensorflowjs)\n",
            "  Downloading ml_dtypes-0.3.2-cp310-cp310-manylinux_2_17_x86_64.manylinux2014_x86_64.whl (2.2 MB)\n",
            "\u001b[2K     \u001b[90m━━━━━━━━━━━━━━━━━━━━━━━━━━━━━━━━━━━━━━━━\u001b[0m \u001b[32m2.2/2.2 MB\u001b[0m \u001b[31m96.3 MB/s\u001b[0m eta \u001b[36m0:00:00\u001b[0m\n",
            "\u001b[?25hRequirement already satisfied: requests<3,>=2.21.0 in /usr/local/lib/python3.10/dist-packages (from tensorflow<3,>=2.13.0->tensorflowjs) (2.31.0)\n",
            "Collecting tensorboard<2.17,>=2.16 (from tensorflow<3,>=2.13.0->tensorflowjs)\n",
            "  Downloading tensorboard-2.16.2-py3-none-any.whl (5.5 MB)\n",
            "\u001b[2K     \u001b[90m━━━━━━━━━━━━━━━━━━━━━━━━━━━━━━━━━━━━━━━━\u001b[0m \u001b[32m5.5/5.5 MB\u001b[0m \u001b[31m52.6 MB/s\u001b[0m eta \u001b[36m0:00:00\u001b[0m\n",
            "\u001b[?25hCollecting keras>=3.0.0 (from tensorflow<3,>=2.13.0->tensorflowjs)\n",
            "  Downloading keras-3.4.1-py3-none-any.whl (1.1 MB)\n",
            "\u001b[2K     \u001b[90m━━━━━━━━━━━━━━━━━━━━━━━━━━━━━━━━━━━━━━━━\u001b[0m \u001b[32m1.1/1.1 MB\u001b[0m \u001b[31m77.4 MB/s\u001b[0m eta \u001b[36m0:00:00\u001b[0m\n",
            "\u001b[?25hCollecting namex (from keras>=3.0.0->tensorflow<3,>=2.13.0->tensorflowjs)\n",
            "  Downloading namex-0.0.8-py3-none-any.whl (5.8 kB)\n",
            "Collecting optree (from keras>=3.0.0->tensorflow<3,>=2.13.0->tensorflowjs)\n",
            "  Downloading optree-0.12.1-cp310-cp310-manylinux_2_17_x86_64.manylinux2014_x86_64.whl (347 kB)\n",
            "\u001b[2K     \u001b[90m━━━━━━━━━━━━━━━━━━━━━━━━━━━━━━━━━━━━━━━━\u001b[0m \u001b[32m347.7/347.7 kB\u001b[0m \u001b[31m39.2 MB/s\u001b[0m eta \u001b[36m0:00:00\u001b[0m\n",
            "\u001b[?25hRequirement already satisfied: charset-normalizer<4,>=2 in /usr/local/lib/python3.10/dist-packages (from requests<3,>=2.21.0->tensorflow<3,>=2.13.0->tensorflowjs) (3.3.2)\n",
            "Requirement already satisfied: idna<4,>=2.5 in /usr/local/lib/python3.10/dist-packages (from requests<3,>=2.21.0->tensorflow<3,>=2.13.0->tensorflowjs) (3.7)\n",
            "Requirement already satisfied: urllib3<3,>=1.21.1 in /usr/local/lib/python3.10/dist-packages (from requests<3,>=2.21.0->tensorflow<3,>=2.13.0->tensorflowjs) (2.0.7)\n",
            "Requirement already satisfied: certifi>=2017.4.17 in /usr/local/lib/python3.10/dist-packages (from requests<3,>=2.21.0->tensorflow<3,>=2.13.0->tensorflowjs) (2024.6.2)\n",
            "Requirement already satisfied: markdown-it-py>=2.2.0 in /usr/local/lib/python3.10/dist-packages (from rich>=11.1->flax>=0.7.2->tensorflowjs) (3.0.0)\n",
            "Requirement already satisfied: pygments<3.0.0,>=2.13.0 in /usr/local/lib/python3.10/dist-packages (from rich>=11.1->flax>=0.7.2->tensorflowjs) (2.16.1)\n",
            "Requirement already satisfied: markdown>=2.6.8 in /usr/local/lib/python3.10/dist-packages (from tensorboard<2.17,>=2.16->tensorflow<3,>=2.13.0->tensorflowjs) (3.6)\n",
            "Requirement already satisfied: tensorboard-data-server<0.8.0,>=0.7.0 in /usr/local/lib/python3.10/dist-packages (from tensorboard<2.17,>=2.16->tensorflow<3,>=2.13.0->tensorflowjs) (0.7.2)\n",
            "Requirement already satisfied: werkzeug>=1.0.1 in /usr/local/lib/python3.10/dist-packages (from tensorboard<2.17,>=2.16->tensorflow<3,>=2.13.0->tensorflowjs) (3.0.3)\n",
            "Requirement already satisfied: chex>=0.1.86 in /usr/local/lib/python3.10/dist-packages (from optax->flax>=0.7.2->tensorflowjs) (0.1.86)\n",
            "Requirement already satisfied: etils[epath,epy] in /usr/local/lib/python3.10/dist-packages (from orbax-checkpoint->flax>=0.7.2->tensorflowjs) (1.7.0)\n",
            "Requirement already satisfied: nest_asyncio in /usr/local/lib/python3.10/dist-packages (from orbax-checkpoint->flax>=0.7.2->tensorflowjs) (1.6.0)\n",
            "Requirement already satisfied: python-dateutil>=2.8.2 in /usr/local/lib/python3.10/dist-packages (from pandas->tensorflow-decision-forests>=1.5.0->tensorflowjs) (2.8.2)\n",
            "Requirement already satisfied: pytz>=2020.1 in /usr/local/lib/python3.10/dist-packages (from pandas->tensorflow-decision-forests>=1.5.0->tensorflowjs) (2023.4)\n",
            "Requirement already satisfied: tzdata>=2022.1 in /usr/local/lib/python3.10/dist-packages (from pandas->tensorflow-decision-forests>=1.5.0->tensorflowjs) (2024.1)\n",
            "Requirement already satisfied: toolz>=0.9.0 in /usr/local/lib/python3.10/dist-packages (from chex>=0.1.86->optax->flax>=0.7.2->tensorflowjs) (0.12.1)\n",
            "Requirement already satisfied: mdurl~=0.1 in /usr/local/lib/python3.10/dist-packages (from markdown-it-py>=2.2.0->rich>=11.1->flax>=0.7.2->tensorflowjs) (0.1.2)\n",
            "Requirement already satisfied: MarkupSafe>=2.1.1 in /usr/local/lib/python3.10/dist-packages (from werkzeug>=1.0.1->tensorboard<2.17,>=2.16->tensorflow<3,>=2.13.0->tensorflowjs) (2.1.5)\n",
            "Requirement already satisfied: fsspec in /usr/local/lib/python3.10/dist-packages (from etils[epath,epy]->orbax-checkpoint->flax>=0.7.2->tensorflowjs) (2023.6.0)\n",
            "Requirement already satisfied: zipp in /usr/local/lib/python3.10/dist-packages (from etils[epath,epy]->orbax-checkpoint->flax>=0.7.2->tensorflowjs) (3.19.2)\n",
            "Installing collected packages: namex, ydf, wurlitzer, packaging, optree, ml-dtypes, h5py, tensorboard, keras, tensorflow, tf-keras, tensorflow-decision-forests, tensorflowjs\n",
            "  Attempting uninstall: packaging\n",
            "    Found existing installation: packaging 24.1\n",
            "    Uninstalling packaging-24.1:\n",
            "      Successfully uninstalled packaging-24.1\n",
            "  Attempting uninstall: ml-dtypes\n",
            "    Found existing installation: ml-dtypes 0.2.0\n",
            "    Uninstalling ml-dtypes-0.2.0:\n",
            "      Successfully uninstalled ml-dtypes-0.2.0\n",
            "  Attempting uninstall: h5py\n",
            "    Found existing installation: h5py 3.9.0\n",
            "    Uninstalling h5py-3.9.0:\n",
            "      Successfully uninstalled h5py-3.9.0\n",
            "  Attempting uninstall: tensorboard\n",
            "    Found existing installation: tensorboard 2.15.2\n",
            "    Uninstalling tensorboard-2.15.2:\n",
            "      Successfully uninstalled tensorboard-2.15.2\n",
            "  Attempting uninstall: keras\n",
            "    Found existing installation: keras 2.15.0\n",
            "    Uninstalling keras-2.15.0:\n",
            "      Successfully uninstalled keras-2.15.0\n",
            "  Attempting uninstall: tensorflow\n",
            "    Found existing installation: tensorflow 2.15.0\n",
            "    Uninstalling tensorflow-2.15.0:\n",
            "      Successfully uninstalled tensorflow-2.15.0\n",
            "  Attempting uninstall: tf-keras\n",
            "    Found existing installation: tf_keras 2.15.1\n",
            "    Uninstalling tf_keras-2.15.1:\n",
            "      Successfully uninstalled tf_keras-2.15.1\n",
            "Successfully installed h5py-3.11.0 keras-3.4.1 ml-dtypes-0.3.2 namex-0.0.8 optree-0.12.1 packaging-23.2 tensorboard-2.16.2 tensorflow-2.16.2 tensorflow-decision-forests-1.9.2 tensorflowjs-4.20.0 tf-keras-2.16.0 wurlitzer-3.1.1 ydf-0.6.0\n"
          ]
        },
        {
          "output_type": "display_data",
          "data": {
            "application/vnd.colab-display-data+json": {
              "pip_warning": {
                "packages": [
                  "h5py",
                  "keras",
                  "ml_dtypes",
                  "tensorboard",
                  "tensorflow"
                ]
              },
              "id": "4c57a72b5bec423a8b502b1542b8b03b"
            }
          },
          "metadata": {}
        }
      ],
      "source": [
        "!pip install tensorflowjs"
      ]
    },
    {
      "cell_type": "markdown",
      "metadata": {
        "id": "NcrWRaHsMN-5"
      },
      "source": [
        "Konversi model ke tfjs"
      ]
    },
    {
      "cell_type": "code",
      "execution_count": 28,
      "metadata": {
        "id": "upjTVyE71xXJ",
        "colab": {
          "base_uri": "https://localhost:8080/"
        },
        "outputId": "2f8ea6a1-c021-4ce7-f4a5-e43f354ac77a"
      },
      "outputs": [
        {
          "output_type": "stream",
          "name": "stdout",
          "text": [
            "2024-07-08 14:48:17.396321: E external/local_xla/xla/stream_executor/cuda/cuda_fft.cc:479] Unable to register cuFFT factory: Attempting to register factory for plugin cuFFT when one has already been registered\n",
            "2024-07-08 14:48:17.510800: E external/local_xla/xla/stream_executor/cuda/cuda_dnn.cc:10575] Unable to register cuDNN factory: Attempting to register factory for plugin cuDNN when one has already been registered\n",
            "2024-07-08 14:48:17.510873: E external/local_xla/xla/stream_executor/cuda/cuda_blas.cc:1442] Unable to register cuBLAS factory: Attempting to register factory for plugin cuBLAS when one has already been registered\n",
            "2024-07-08 14:48:19.195791: W tensorflow/compiler/tf2tensorrt/utils/py_utils.cc:38] TF-TRT Warning: Could not find TensorRT\n"
          ]
        }
      ],
      "source": [
        "!tensorflowjs_converter --input_format=keras model.h5 tfjs_model"
      ]
    },
    {
      "cell_type": "markdown",
      "source": [
        "Terakhir download MyModel yang sudah disimpan sebelumnya dengan cara kita kompres terlebih dahulu"
      ],
      "metadata": {
        "id": "Vp0voafglWPZ"
      }
    },
    {
      "cell_type": "markdown",
      "source": [
        "save model"
      ],
      "metadata": {
        "id": "5M8Umlb8mPy1"
      }
    },
    {
      "cell_type": "code",
      "source": [
        "zip_filename = 'mymodel.zip'\n",
        "with zipfile.ZipFile(zip_filename, 'w', zipfile.ZIP_DEFLATED) as zipf:\n",
        "    for root, dirs, files in os.walk(save_path):\n",
        "        for file in files:\n",
        "            zipf.write(os.path.join(root, file), os.path.relpath(os.path.join(root, file), save_path))"
      ],
      "metadata": {
        "id": "0PIjipoalVez"
      },
      "execution_count": 30,
      "outputs": []
    },
    {
      "cell_type": "markdown",
      "source": [
        "TFJS-model"
      ],
      "metadata": {
        "id": "mVQr9NOrmSaq"
      }
    },
    {
      "cell_type": "code",
      "source": [
        "zip_filename = 'tfjs_model.zip'\n",
        "with zipfile.ZipFile(zip_filename, 'w', zipfile.ZIP_DEFLATED) as zipf:\n",
        "    for root, dirs, files in os.walk('tfjs_model'):\n",
        "        for file in files:\n",
        "            zipf.write(os.path.join(root, file), os.path.relpath(os.path.join(root, file), 'tfjs_model'))"
      ],
      "metadata": {
        "id": "2qkoMA-Iln_s"
      },
      "execution_count": 31,
      "outputs": []
    }
  ],
  "metadata": {
    "colab": {
      "provenance": [],
      "gpuType": "T4"
    },
    "kernelspec": {
      "display_name": "Python 3",
      "name": "python3"
    },
    "language_info": {
      "name": "python"
    },
    "accelerator": "GPU"
  },
  "nbformat": 4,
  "nbformat_minor": 0
}